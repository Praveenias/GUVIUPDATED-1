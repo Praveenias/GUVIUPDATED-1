{
 "cells": [
  {
   "cell_type": "code",
   "execution_count": 1,
   "metadata": {},
   "outputs": [
    {
     "name": "stdout",
     "output_type": "stream",
     "text": [
      "1234\n"
     ]
    },
    {
     "ename": "TypeError",
     "evalue": "'int' object is not iterable",
     "output_type": "error",
     "traceback": [
      "\u001b[1;31m---------------------------------------------------------------------------\u001b[0m",
      "\u001b[1;31mTypeError\u001b[0m                                 Traceback (most recent call last)",
      "\u001b[1;32m<ipython-input-1-646bb95ae270>\u001b[0m in \u001b[0;36m<module>\u001b[1;34m\u001b[0m\n\u001b[0;32m      1\u001b[0m \u001b[0ma\u001b[0m\u001b[1;33m,\u001b[0m\u001b[0ms\u001b[0m\u001b[1;33m=\u001b[0m\u001b[0mint\u001b[0m\u001b[1;33m(\u001b[0m\u001b[0minput\u001b[0m\u001b[1;33m(\u001b[0m\u001b[1;33m)\u001b[0m\u001b[1;33m)\u001b[0m\u001b[1;33m,\u001b[0m\u001b[1;33m[\u001b[0m\u001b[1;33m]\u001b[0m\u001b[1;33m\u001b[0m\u001b[1;33m\u001b[0m\u001b[0m\n\u001b[1;32m----> 2\u001b[1;33m \u001b[1;32mfor\u001b[0m \u001b[0mi\u001b[0m \u001b[1;32min\u001b[0m \u001b[0ma\u001b[0m\u001b[1;33m:\u001b[0m\u001b[1;33m\u001b[0m\u001b[1;33m\u001b[0m\u001b[0m\n\u001b[0m\u001b[0;32m      3\u001b[0m     \u001b[0ms\u001b[0m\u001b[1;33m.\u001b[0m\u001b[0mappend\u001b[0m\u001b[1;33m(\u001b[0m\u001b[0mi\u001b[0m\u001b[1;33m)\u001b[0m\u001b[1;33m\u001b[0m\u001b[1;33m\u001b[0m\u001b[0m\n\u001b[0;32m      4\u001b[0m \u001b[0mprint\u001b[0m\u001b[1;33m(\u001b[0m\u001b[0ms\u001b[0m\u001b[1;33m)\u001b[0m\u001b[1;33m\u001b[0m\u001b[1;33m\u001b[0m\u001b[0m\n",
      "\u001b[1;31mTypeError\u001b[0m: 'int' object is not iterable"
     ]
    }
   ],
   "source": [
    "a,s=int(input()),[]\n",
    "for i in a:\n",
    "    s.append(i)\n",
    "print(s)"
   ]
  },
  {
   "cell_type": "code",
   "execution_count": 1,
   "metadata": {},
   "outputs": [
    {
     "name": "stdout",
     "output_type": "stream",
     "text": [
      "3\n",
      "30 jan 1998, 69 yhu 5666, 98 kjhb 6999\n",
      "['30 jan 1998', ' 69 yhu 5666', ' 98 kjhb 6999']\n"
     ]
    }
   ],
   "source": [
    "a=int(input())\n",
    "l=list(input().split(\",\"))[:a]\n",
    "print(l)"
   ]
  },
  {
   "cell_type": "markdown",
   "metadata": {},
   "source": [
    "584"
   ]
  },
  {
   "cell_type": "code",
   "execution_count": 14,
   "metadata": {},
   "outputs": [
    {
     "name": "stdout",
     "output_type": "stream",
     "text": [
      "51\n",
      "1 2 3 4 5 6 8 9 10 12 14 15 16 18 20 21 22 24 25 26 27 28 30 32 33 34 35 36 38 39 40 42 44 45 46 48 50 51\n"
     ]
    }
   ],
   "source": [
    "a,s=int(input()),[1]\n",
    "for i in range(1,a+1):\n",
    "    if(i%2==0 or i%3==0 or i%5==0):\n",
    "        s.append(i)\n",
    "print(*s)"
   ]
  },
  {
   "cell_type": "markdown",
   "metadata": {},
   "source": [
    "596"
   ]
  },
  {
   "cell_type": "code",
   "execution_count": 12,
   "metadata": {},
   "outputs": [
    {
     "name": "stdout",
     "output_type": "stream",
     "text": [
      "7\n",
      "1 2 3 4 4 4 5\n",
      "4\n"
     ]
    }
   ],
   "source": [
    "a=int(input())\n",
    "l=list(map(int,input().split()))[:a]\n",
    "max=l.count(l[0])\n",
    "ma=l[0]\n",
    "for i in range(0,a):\n",
    "    if(max<l.count(l[i])):\n",
    "        ma=l[i]\n",
    "    else:\n",
    "        continue\n",
    "print(ma)\n"
   ]
  },
  {
   "cell_type": "markdown",
   "metadata": {},
   "source": [
    "9"
   ]
  },
  {
   "cell_type": "code",
   "execution_count": 11,
   "metadata": {},
   "outputs": [
    {
     "name": "stdout",
     "output_type": "stream",
     "text": [
      "5 9\n",
      "1 4 5 7 8\n",
      "-1\n"
     ]
    }
   ],
   "source": [
    "a,b=map(int,input().split())\n",
    "m=[]\n",
    "l=list(map(int,input().split()))[:a]\n",
    "m=sorted(l)\n",
    "if b in range(m[a-1]+1):\n",
    "    for i in m:\n",
    "         if(i<b):\n",
    "             ma=l.index(i)\n",
    "         else:\n",
    "             break\n",
    "    print(ma)\n",
    "else:\n",
    "    print('-1')"
   ]
  },
  {
   "cell_type": "markdown",
   "metadata": {},
   "source": [
    "16"
   ]
  },
  {
   "cell_type": "code",
   "execution_count": 36,
   "metadata": {},
   "outputs": [
    {
     "name": "stdout",
     "output_type": "stream",
     "text": [
      "20\n",
      "02\n"
     ]
    }
   ],
   "source": [
    "x=input()\n",
    "\n",
    "if int(x)>0:\n",
    "    x=list(x)\n",
    "    p=len(x)\n",
    "    sum=x[p-1]+x[p-2]\n",
    "else:\n",
    "    x=list(x)\n",
    "    p=len(x)\n",
    "    sum=x[0]+x[p]\n",
    "print(sum)\n",
    "    "
   ]
  },
  {
   "cell_type": "code",
   "execution_count": 26,
   "metadata": {},
   "outputs": [
    {
     "name": "stdout",
     "output_type": "stream",
     "text": [
      "5\n",
      "1\n",
      "2\n",
      "6\n",
      "24\n"
     ]
    }
   ],
   "source": [
    "x=int(input())\n",
    "p=1\n",
    "for i in range(1,x):\n",
    "    for j in range(1,x*2,2):\n",
    "        if(j==1):\n",
    "            p=p*i*(j)\n",
    "            print(p)\n",
    "            break\n",
    "        else:\n",
    "            p=p*i*(j-1)\n",
    "            print(p)\n",
    "            break\n",
    "            \n"
   ]
  },
  {
   "cell_type": "code",
   "execution_count": 23,
   "metadata": {},
   "outputs": [
    {
     "name": "stdout",
     "output_type": "stream",
     "text": [
      "[(1,), (2,), (3,), (4,)]\n",
      "[(1, 2), (1, 3), (1, 4), (2, 3), (2, 4), (3, 4)]\n",
      "[(1, 2, 3), (1, 2, 4), (1, 3, 4), (2, 3, 4)]\n",
      "[(1, 2, 3, 4)]\n"
     ]
    }
   ],
   "source": [
    "import itertools as it\n",
    "l=[1,2,3,4]\n",
    "k=[]\n",
    "for i in range(1,len(l)+1):\n",
    "    k.append(list(it.combinations(l,i)))\n",
    "for i in k:\n",
    "    print(i)\n"
   ]
  },
  {
   "cell_type": "code",
   "execution_count": null,
   "metadata": {},
   "outputs": [],
   "source": [
    "\n"
   ]
  }
 ],
 "metadata": {
  "kernelspec": {
   "display_name": "Python 3",
   "language": "python",
   "name": "python3"
  },
  "language_info": {
   "codemirror_mode": {
    "name": "ipython",
    "version": 3
   },
   "file_extension": ".py",
   "mimetype": "text/x-python",
   "name": "python",
   "nbconvert_exporter": "python",
   "pygments_lexer": "ipython3",
   "version": "3.7.6"
  }
 },
 "nbformat": 4,
 "nbformat_minor": 4
}
