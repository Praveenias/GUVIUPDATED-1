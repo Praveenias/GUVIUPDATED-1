{
 "cells": [
  {
   "cell_type": "code",
   "execution_count": 14,
   "metadata": {},
   "outputs": [
    {
     "name": "stdout",
     "output_type": "stream",
     "text": [
      "3\n",
      "\n",
      "11\n",
      "111111\n"
     ]
    }
   ],
   "source": [
    "a=int(input())\n",
    "for i in range(0,a):\n",
    "    for j in range(0,i+1):\n",
    "        for k in range(0,i):\n",
    "            print(\"1\",end='')\n",
    "    print(end='\\n')\n",
    "    \n"
   ]
  },
  {
   "cell_type": "code",
   "execution_count": null,
   "metadata": {},
   "outputs": [],
   "source": []
  },
  {
   "cell_type": "code",
   "execution_count": 19,
   "metadata": {},
   "outputs": [
    {
     "name": "stdout",
     "output_type": "stream",
     "text": [
      "2 4\n",
      "4\n"
     ]
    }
   ],
   "source": [
    "x,y=[int(i) for i in input().split()]\n",
    "print(x*y//2)"
   ]
  },
  {
   "cell_type": "code",
   "execution_count": 27,
   "metadata": {},
   "outputs": [
    {
     "name": "stdout",
     "output_type": "stream",
     "text": [
      "5\n",
      "5 4 7 8 6\n",
      "8\n",
      "->\n",
      "7\n",
      "->\n",
      "6\n",
      "->\n",
      "5\n",
      "->\n",
      "4\n",
      "->\n"
     ]
    }
   ],
   "source": [
    "a=int(input())\n",
    "l=list(map(int,input().split()))[:a]\n",
    "l.sort(reverse=True)\n",
    "for i in l:\n",
    "    print(i)\n",
    "    print('->')"
   ]
  },
  {
   "cell_type": "code",
   "execution_count": 34,
   "metadata": {},
   "outputs": [
    {
     "name": "stdout",
     "output_type": "stream",
     "text": [
      "1234\n"
     ]
    },
    {
     "ename": "TypeError",
     "evalue": "'int' object is not iterable",
     "output_type": "error",
     "traceback": [
      "\u001b[1;31m---------------------------------------------------------------------------\u001b[0m",
      "\u001b[1;31mTypeError\u001b[0m                                 Traceback (most recent call last)",
      "\u001b[1;32m<ipython-input-34-a31c53c78527>\u001b[0m in \u001b[0;36m<module>\u001b[1;34m\u001b[0m\n\u001b[0;32m      2\u001b[0m \u001b[0mk\u001b[0m\u001b[1;33m=\u001b[0m\u001b[0mlen\u001b[0m\u001b[1;33m(\u001b[0m\u001b[0mn\u001b[0m\u001b[1;33m)\u001b[0m\u001b[1;33m\u001b[0m\u001b[1;33m\u001b[0m\u001b[0m\n\u001b[0;32m      3\u001b[0m \u001b[0mn\u001b[0m\u001b[1;33m=\u001b[0m\u001b[0mint\u001b[0m\u001b[1;33m(\u001b[0m\u001b[0mn\u001b[0m\u001b[1;33m)\u001b[0m\u001b[1;33m\u001b[0m\u001b[1;33m\u001b[0m\u001b[0m\n\u001b[1;32m----> 4\u001b[1;33m \u001b[1;32mfor\u001b[0m \u001b[0mi\u001b[0m \u001b[1;32min\u001b[0m \u001b[0mn\u001b[0m\u001b[1;33m:\u001b[0m\u001b[1;33m\u001b[0m\u001b[1;33m\u001b[0m\u001b[0m\n\u001b[0m\u001b[0;32m      5\u001b[0m     \u001b[0msum\u001b[0m\u001b[1;33m=\u001b[0m\u001b[0msum\u001b[0m\u001b[1;33m+\u001b[0m\u001b[0mi\u001b[0m\u001b[1;33m**\u001b[0m\u001b[0mk\u001b[0m\u001b[1;33m\u001b[0m\u001b[1;33m\u001b[0m\u001b[0m\n\u001b[0;32m      6\u001b[0m \u001b[0mprint\u001b[0m\u001b[1;33m(\u001b[0m\u001b[0msum\u001b[0m\u001b[1;33m)\u001b[0m\u001b[1;33m\u001b[0m\u001b[1;33m\u001b[0m\u001b[0m\n",
      "\u001b[1;31mTypeError\u001b[0m: 'int' object is not iterable"
     ]
    }
   ],
   "source": [
    "n,sum=int(input()),0\n",
    "k=len(n)\n",
    "for i in n:\n",
    "    sum=sum+i**k\n",
    "print(sum)"
   ]
  },
  {
   "cell_type": "code",
   "execution_count": 4,
   "metadata": {},
   "outputs": [
    {
     "name": "stdout",
     "output_type": "stream",
     "text": [
      "3 4\n",
      "81\n"
     ]
    }
   ],
   "source": [
    "a,b=[int(i) for i in input().split()]\n",
    "print(a**b)"
   ]
  },
  {
   "cell_type": "code",
   "execution_count": 7,
   "metadata": {},
   "outputs": [
    {
     "name": "stdout",
     "output_type": "stream",
     "text": [
      "hello world\n",
      "world hello\n"
     ]
    }
   ],
   "source": [
    "a=input()\n",
    "for i in range(0,len(a)):\n",
    "    if (a[i]==\" \"):\n",
    "        v=a.index(a[i])\n",
    "print(a[v+1:],a[:v])"
   ]
  },
  {
   "cell_type": "code",
   "execution_count": 10,
   "metadata": {},
   "outputs": [
    {
     "name": "stdout",
     "output_type": "stream",
     "text": [
      "a\n",
      "x\n"
     ]
    }
   ],
   "source": [
    "a=input()\n",
    "d=ord(a)\n",
    "d=d+23\n",
    "print(chr(d))"
   ]
  },
  {
   "cell_type": "code",
   "execution_count": 14,
   "metadata": {},
   "outputs": [
    {
     "name": "stdout",
     "output_type": "stream",
     "text": [
      "6 5 6\n",
      "no\n"
     ]
    }
   ],
   "source": [
    "a,b,c=[int(i) for i in input().split()]\n",
    "if(a!=b and b!=c and c!=a) :\n",
    "    print('yes')\n",
    "else:\n",
    "    print('no')"
   ]
  },
  {
   "cell_type": "code",
   "execution_count": 40,
   "metadata": {},
   "outputs": [
    {
     "name": "stdout",
     "output_type": "stream",
     "text": [
      "20\n",
      "10\n",
      "yes\n"
     ]
    }
   ],
   "source": [
    "a,c=int(input()),1\n",
    "b=a//2\n",
    "print(b)\n",
    "for i in range(2,b):\n",
    "    if(i%a==0):\n",
    "        print(i)\n",
    "        c=c+1\n",
    "        break\n",
    "if(c==1):\n",
    "    print('yes')\n",
    "else:\n",
    "    print('no')"
   ]
  },
  {
   "cell_type": "code",
   "execution_count": 53,
   "metadata": {},
   "outputs": [
    {
     "name": "stdout",
     "output_type": "stream",
     "text": [
      "geeg\n",
      "geeg\n"
     ]
    },
    {
     "ename": "AttributeError",
     "evalue": "'str' object has no attribute 'remove'",
     "output_type": "error",
     "traceback": [
      "\u001b[1;31m---------------------------------------------------------------------------\u001b[0m",
      "\u001b[1;31mAttributeError\u001b[0m                            Traceback (most recent call last)",
      "\u001b[1;32m<ipython-input-53-c01fecda2d3f>\u001b[0m in \u001b[0;36m<module>\u001b[1;34m\u001b[0m\n\u001b[0;32m      7\u001b[0m     \u001b[1;32mfor\u001b[0m \u001b[0mj\u001b[0m \u001b[1;32min\u001b[0m \u001b[0mrange\u001b[0m\u001b[1;33m(\u001b[0m\u001b[1;36m0\u001b[0m\u001b[1;33m,\u001b[0m\u001b[0mlen\u001b[0m\u001b[1;33m(\u001b[0m\u001b[0md\u001b[0m\u001b[1;33m)\u001b[0m\u001b[1;33m)\u001b[0m\u001b[1;33m:\u001b[0m\u001b[1;33m\u001b[0m\u001b[1;33m\u001b[0m\u001b[0m\n\u001b[0;32m      8\u001b[0m         \u001b[1;32mif\u001b[0m\u001b[1;33m(\u001b[0m\u001b[0mi\u001b[0m\u001b[1;33m==\u001b[0m\u001b[0md\u001b[0m\u001b[1;33m[\u001b[0m\u001b[0mj\u001b[0m\u001b[1;33m]\u001b[0m\u001b[1;33m)\u001b[0m\u001b[1;33m:\u001b[0m\u001b[1;33m\u001b[0m\u001b[1;33m\u001b[0m\u001b[0m\n\u001b[1;32m----> 9\u001b[1;33m             \u001b[0md\u001b[0m\u001b[1;33m.\u001b[0m\u001b[0mremove\u001b[0m\u001b[1;33m(\u001b[0m\u001b[0md\u001b[0m\u001b[1;33m[\u001b[0m\u001b[0mj\u001b[0m\u001b[1;33m]\u001b[0m\u001b[1;33m)\u001b[0m\u001b[1;33m\u001b[0m\u001b[1;33m\u001b[0m\u001b[0m\n\u001b[0m\u001b[0;32m     10\u001b[0m             \u001b[0mprint\u001b[0m\u001b[1;33m(\u001b[0m\u001b[0mlen\u001b[0m\u001b[1;33m(\u001b[0m\u001b[0md\u001b[0m\u001b[1;33m)\u001b[0m\u001b[1;33m)\u001b[0m\u001b[1;33m\u001b[0m\u001b[1;33m\u001b[0m\u001b[0m\n\u001b[0;32m     11\u001b[0m \u001b[1;32mif\u001b[0m\u001b[1;33m(\u001b[0m\u001b[0mlen\u001b[0m\u001b[1;33m(\u001b[0m\u001b[0md\u001b[0m\u001b[1;33m)\u001b[0m\u001b[1;33m==\u001b[0m\u001b[1;36m0\u001b[0m\u001b[1;33m)\u001b[0m\u001b[1;33m:\u001b[0m\u001b[1;33m\u001b[0m\u001b[1;33m\u001b[0m\u001b[0m\n",
      "\u001b[1;31mAttributeError\u001b[0m: 'str' object has no attribute 'remove'"
     ]
    }
   ],
   "source": [
    "a,s,d=input(),[],[]\n",
    "d=a[::-1]\n",
    "print(d)\n",
    "for i in a:\n",
    "    s.append(i)\n",
    "for i in s:\n",
    "    for j in range(0,len(d)):\n",
    "        if(i==d[j]):\n",
    "            d.remove(d[j])\n",
    "            print(len(d))\n",
    "if(len(d)==0):\n",
    "    print('yes')\n",
    "else:\n",
    "    print('no')\n",
    "    "
   ]
  },
  {
   "cell_type": "markdown",
   "metadata": {},
   "source": [
    "You are given with a list of size ‘n’. The list is imposed with a condition that all elements must be of range 0 to n-1.Your task is to rearrange the numbers such that arr[i] becomes arr[arr[i]]."
   ]
  },
  {
   "cell_type": "code",
   "execution_count": 2,
   "metadata": {},
   "outputs": [
    {
     "name": "stdout",
     "output_type": "stream",
     "text": [
      "5\n",
      "3 4 5 2 1\n"
     ]
    },
    {
     "ename": "IndexError",
     "evalue": "list index out of range",
     "output_type": "error",
     "traceback": [
      "\u001b[1;31m---------------------------------------------------------------------------\u001b[0m",
      "\u001b[1;31mIndexError\u001b[0m                                Traceback (most recent call last)",
      "\u001b[1;32m<ipython-input-2-3ffc5c9949a5>\u001b[0m in \u001b[0;36m<module>\u001b[1;34m\u001b[0m\n\u001b[0;32m      4\u001b[0m \u001b[1;32mfor\u001b[0m \u001b[0mi\u001b[0m \u001b[1;32min\u001b[0m \u001b[0mrange\u001b[0m\u001b[1;33m(\u001b[0m\u001b[1;36m0\u001b[0m\u001b[1;33m,\u001b[0m\u001b[0mnnum\u001b[0m\u001b[1;33m)\u001b[0m\u001b[1;33m:\u001b[0m\u001b[1;33m\u001b[0m\u001b[1;33m\u001b[0m\u001b[0m\n\u001b[0;32m      5\u001b[0m   \u001b[0mk\u001b[0m\u001b[1;33m=\u001b[0m\u001b[0mrlt\u001b[0m\u001b[1;33m[\u001b[0m\u001b[0mi\u001b[0m\u001b[1;33m]\u001b[0m\u001b[1;33m\u001b[0m\u001b[1;33m\u001b[0m\u001b[0m\n\u001b[1;32m----> 6\u001b[1;33m   \u001b[0ms\u001b[0m\u001b[1;33m=\u001b[0m\u001b[0ms\u001b[0m\u001b[1;33m+\u001b[0m\u001b[0mstr\u001b[0m\u001b[1;33m(\u001b[0m\u001b[0mrlt\u001b[0m\u001b[1;33m[\u001b[0m\u001b[0mk\u001b[0m\u001b[1;33m]\u001b[0m\u001b[1;33m)\u001b[0m\u001b[1;33m\u001b[0m\u001b[1;33m\u001b[0m\u001b[0m\n\u001b[0m\u001b[0;32m      7\u001b[0m   \u001b[0mrlt\u001b[0m\u001b[1;33m[\u001b[0m\u001b[0mi\u001b[0m\u001b[1;33m]\u001b[0m\u001b[1;33m=\u001b[0m\u001b[0mk\u001b[0m\u001b[1;33m\u001b[0m\u001b[1;33m\u001b[0m\u001b[0m\n\u001b[0;32m      8\u001b[0m \u001b[0ms\u001b[0m\u001b[1;33m=\u001b[0m\u001b[0mlist\u001b[0m\u001b[1;33m(\u001b[0m\u001b[0ms\u001b[0m\u001b[1;33m)\u001b[0m\u001b[1;33m\u001b[0m\u001b[1;33m\u001b[0m\u001b[0m\n",
      "\u001b[1;31mIndexError\u001b[0m: list index out of range"
     ]
    }
   ],
   "source": [
    "nnum=int(input())\n",
    "lt=[int(i) for i in input().split()]\n",
    "rlt,s=lt,\"\"\n",
    "for i in range(0,nnum):\n",
    "  k=rlt[i]\n",
    "  s=s+str(rlt[k])\n",
    "  rlt[i]=k\n",
    "s=list(s)\n",
    "for i in range(0,len(s)-1):\n",
    "  print(s[i],end=\" \")\n",
    "print(s[len(s)-1],end=\"\")"
   ]
  },
  {
   "cell_type": "markdown",
   "metadata": {},
   "source": [
    "Find the count k by which array has been rotated in the rotated sorted array. Given a number N followed 2 arrays A and B of length N. Find the amount K by which the array has been rotated."
   ]
  },
  {
   "cell_type": "code",
   "execution_count": 10,
   "metadata": {},
   "outputs": [
    {
     "name": "stdout",
     "output_type": "stream",
     "text": [
      "4\n",
      "5 6 2 4\n",
      "2 4 5 6\n",
      "6\n"
     ]
    }
   ],
   "source": [
    "knum=int(input()) \n",
    "lt=[int(i) for i in input().split()]\n",
    "lt2=[int(i) for i in input().split()]\n",
    "c1,c2=0,0\n",
    "for i in range(0,len(lt2)):\n",
    "    if(lt2[i]==knum):\n",
    "        c1=i+1\n",
    "for i in range(0,len(lt)):\n",
    "    if(lt[i]==knum):\n",
    "        c2=i+1\n",
    "c3=(len(lt)-c1)+c2\n",
    "print(c3)"
   ]
  },
  {
   "cell_type": "markdown",
   "metadata": {},
   "source": [
    "137"
   ]
  },
  {
   "cell_type": "code",
   "execution_count": 2,
   "metadata": {},
   "outputs": [
    {
     "name": "stdout",
     "output_type": "stream",
     "text": [
      "4\n",
      "4 2 2 1\n",
      "4 6 8 9\n"
     ]
    }
   ],
   "source": [
    "a,b,c=int(input()),0,[]\n",
    "l=[int(i) for i in input().split()][:a]\n",
    "for i in l:\n",
    "    b=b+i\n",
    "    c.append(b)\n",
    "print(*c)\n",
    "    \n"
   ]
  },
  {
   "cell_type": "markdown",
   "metadata": {},
   "source": [
    "46"
   ]
  },
  {
   "cell_type": "code",
   "execution_count": 5,
   "metadata": {},
   "outputs": [
    {
     "name": "stdout",
     "output_type": "stream",
     "text": [
      "5\n",
      "2 14 15 14 3\n",
      "3 2\n"
     ]
    }
   ],
   "source": [
    "a,c=int(input()),[]\n",
    "l=[int(i) for i in input().split()][:a]\n",
    "for i in l:\n",
    "    if(i<=a):\n",
    "        c.append(i)\n",
    "if(len(c)==0):\n",
    "    print('-1')\n",
    "else:\n",
    "    c=sorted(c,reverse=True)\n",
    "    print(*c)"
   ]
  },
  {
   "cell_type": "markdown",
   "metadata": {},
   "source": [
    "139"
   ]
  },
  {
   "cell_type": "code",
   "execution_count": 6,
   "metadata": {},
   "outputs": [
    {
     "name": "stdout",
     "output_type": "stream",
     "text": [
      "4\n",
      "2 4 4 2\n",
      "10\n",
      "8\n",
      "8\n",
      "10\n"
     ]
    }
   ],
   "source": [
    "n=int(input())\n",
    "l=[int(i) for i in input().split()]\n",
    "for i in l:\n",
    "    print(sum(l)-i)"
   ]
  },
  {
   "cell_type": "markdown",
   "metadata": {},
   "source": [
    "127"
   ]
  },
  {
   "cell_type": "code",
   "execution_count": 18,
   "metadata": {},
   "outputs": [
    {
     "name": "stdout",
     "output_type": "stream",
     "text": [
      "1234034 4\n"
     ]
    },
    {
     "ename": "TypeError",
     "evalue": "'int' object is not iterable",
     "output_type": "error",
     "traceback": [
      "\u001b[1;31m---------------------------------------------------------------------------\u001b[0m",
      "\u001b[1;31mTypeError\u001b[0m                                 Traceback (most recent call last)",
      "\u001b[1;32m<ipython-input-18-a83903d340a3>\u001b[0m in \u001b[0;36m<module>\u001b[1;34m\u001b[0m\n\u001b[0;32m      1\u001b[0m \u001b[0ma\u001b[0m\u001b[1;33m,\u001b[0m\u001b[0mb\u001b[0m\u001b[1;33m=\u001b[0m\u001b[1;33m[\u001b[0m\u001b[0mint\u001b[0m\u001b[1;33m(\u001b[0m\u001b[0mi\u001b[0m\u001b[1;33m)\u001b[0m \u001b[1;32mfor\u001b[0m \u001b[0mi\u001b[0m \u001b[1;32min\u001b[0m \u001b[0minput\u001b[0m\u001b[1;33m(\u001b[0m\u001b[1;33m)\u001b[0m\u001b[1;33m.\u001b[0m\u001b[0msplit\u001b[0m\u001b[1;33m(\u001b[0m\u001b[1;33m)\u001b[0m\u001b[1;33m]\u001b[0m\u001b[1;33m\u001b[0m\u001b[1;33m\u001b[0m\u001b[0m\n\u001b[0;32m      2\u001b[0m \u001b[0mc\u001b[0m\u001b[1;33m,\u001b[0m\u001b[0mj\u001b[0m\u001b[1;33m=\u001b[0m\u001b[1;36m0\u001b[0m\u001b[1;33m,\u001b[0m\u001b[1;33m[\u001b[0m\u001b[1;33m]\u001b[0m\u001b[1;33m\u001b[0m\u001b[1;33m\u001b[0m\u001b[0m\n\u001b[1;32m----> 3\u001b[1;33m \u001b[0ma\u001b[0m\u001b[1;33m=\u001b[0m\u001b[0mlist\u001b[0m\u001b[1;33m(\u001b[0m\u001b[0ma\u001b[0m\u001b[1;33m)\u001b[0m\u001b[1;33m\u001b[0m\u001b[1;33m\u001b[0m\u001b[0m\n\u001b[0m\u001b[0;32m      4\u001b[0m \u001b[1;32mfor\u001b[0m \u001b[0mi\u001b[0m \u001b[1;32min\u001b[0m \u001b[0mrange\u001b[0m\u001b[1;33m(\u001b[0m\u001b[0mb\u001b[0m\u001b[1;33m+\u001b[0m\u001b[1;36m1\u001b[0m\u001b[1;33m)\u001b[0m\u001b[1;33m:\u001b[0m\u001b[1;33m\u001b[0m\u001b[1;33m\u001b[0m\u001b[0m\n\u001b[0;32m      5\u001b[0m     \u001b[0mj\u001b[0m\u001b[1;33m.\u001b[0m\u001b[0mappend\u001b[0m\u001b[1;33m(\u001b[0m\u001b[0mi\u001b[0m\u001b[1;33m)\u001b[0m\u001b[1;33m\u001b[0m\u001b[1;33m\u001b[0m\u001b[0m\n",
      "\u001b[1;31mTypeError\u001b[0m: 'int' object is not iterable"
     ]
    }
   ],
   "source": [
    "a,b=[int(i) for i in input().split()]\n",
    "c,j=0,[]\n",
    "a=list(a)\n",
    "for i in range(b+1):\n",
    "    j.append(i)\n",
    "print(j)\n",
    "for i in a:\n",
    "    if i in j:\n",
    "        c=c+1\n",
    "if(len(a)==c):\n",
    "    print('yes')\n",
    "else:\n",
    "    print('no')"
   ]
  },
  {
   "cell_type": "code",
   "execution_count": 12,
   "metadata": {},
   "outputs": [
    {
     "data": {
      "text/plain": [
       "range(0, 5)"
      ]
     },
     "execution_count": 12,
     "metadata": {},
     "output_type": "execute_result"
    }
   ],
   "source": [
    "range(0,5)"
   ]
  },
  {
   "cell_type": "markdown",
   "metadata": {},
   "source": [
    "150"
   ]
  },
  {
   "cell_type": "code",
   "execution_count": 33,
   "metadata": {},
   "outputs": [
    {
     "name": "stdout",
     "output_type": "stream",
     "text": [
      "5\n",
      "4 3 1 2 4\n",
      "3 4 4 2 1\n"
     ]
    }
   ],
   "source": [
    "x=int(input())\n",
    "y=int(x/2)\n",
    "l=[int(i) for i in input().split()]\n",
    "l1=sorted(l)\n",
    "l2=sorted(l,reverse=True)\n",
    "if x%2==0 :\n",
    "    print(l1[y:]+l2[y:])\n",
    "else:\n",
    "    print(*(l1[y:]+l2[y+1:]))"
   ]
  },
  {
   "cell_type": "markdown",
   "metadata": {},
   "source": [
    "151"
   ]
  },
  {
   "cell_type": "code",
   "execution_count": 19,
   "metadata": {},
   "outputs": [
    {
     "name": "stdout",
     "output_type": "stream",
     "text": [
      "praven\n",
      "0\n"
     ]
    }
   ],
   "source": [
    "x=input()\n",
    "c=x.count(x[0])\n",
    "for i in x:\n",
    "    if c<x.count(i) :\n",
    "        c=x.count(i)\n",
    "if(c==1):\n",
    "    print('0')\n",
    "else:\n",
    "    print(c)\n",
    "    "
   ]
  },
  {
   "cell_type": "markdown",
   "metadata": {},
   "source": [
    "152"
   ]
  },
  {
   "cell_type": "code",
   "execution_count": 27,
   "metadata": {},
   "outputs": [
    {
     "name": "stdout",
     "output_type": "stream",
     "text": [
      "4\n",
      "5 7 7 9\n",
      "hi\n",
      "hi\n",
      "hi\n",
      "hi\n"
     ]
    }
   ],
   "source": [
    "x=int(input())\n",
    "l=[int(i) for i in input().split()]\n",
    "def divisible(n,lst):\n",
    "    for i in lst:\n",
    "        if n%i==0:\n",
    "            return True\n",
    "            break\n",
    "        else:\n",
    "            continue\n",
    "    else:\n",
    "        return False\n",
    "for i in l:\n",
    "    if(divisible(i,l)==True):\n",
    "        print('hi')\n",
    "    else:\n",
    "        print('hello')\n"
   ]
  },
  {
   "cell_type": "markdown",
   "metadata": {},
   "source": [
    "153"
   ]
  },
  {
   "cell_type": "code",
   "execution_count": 29,
   "metadata": {},
   "outputs": [
    {
     "name": "stdout",
     "output_type": "stream",
     "text": [
      "4\n",
      "2 4 4 4\n",
      "2 6 10 14\n"
     ]
    }
   ],
   "source": [
    "x,sum,m =int(input()),0,[]\n",
    "l=[int(i) for i in input().split()]\n",
    "for i in l:\n",
    "    sum+=i\n",
    "    m.append(sum)\n",
    "print(*m)"
   ]
  },
  {
   "cell_type": "markdown",
   "metadata": {},
   "source": [
    "154"
   ]
  },
  {
   "cell_type": "code",
   "execution_count": 32,
   "metadata": {},
   "outputs": [
    {
     "name": "stdout",
     "output_type": "stream",
     "text": [
      "413\n",
      "4\n",
      "1\n",
      "3\n",
      "E\n"
     ]
    }
   ],
   "source": [
    "x=input()\n",
    "l=list(x)\n",
    "sum=0\n",
    "def iseven(n):\n",
    "    if n%2 == 0:\n",
    "        return True\n",
    "    else:\n",
    "        return False\n",
    "for i in l:\n",
    "    i=int(i)\n",
    "    if(iseven(i) == True):\n",
    "        continue\n",
    "    else:\n",
    "        sum+=i\n",
    "if(iseven(sum)== True):\n",
    "    print('E')\n",
    "else:\n",
    "    print('O')\n",
    "    "
   ]
  },
  {
   "cell_type": "markdown",
   "metadata": {},
   "source": [
    "155"
   ]
  },
  {
   "cell_type": "code",
   "execution_count": null,
   "metadata": {},
   "outputs": [],
   "source": [
    "x,z=map(int,input().split())\n",
    "l=[int(i) for i in input().split()]\n",
    "l1=sorted(l)\n",
    "l2=sorted(l,reverse=True)\n",
    "if x%2==0 :\n",
    "    print(l1[z:]+l2[z:])\n",
    "else:\n",
    "    print(*(l1[z:]+l2[z+1:]))"
   ]
  },
  {
   "cell_type": "markdown",
   "metadata": {},
   "source": [
    "156"
   ]
  },
  {
   "cell_type": "code",
   "execution_count": 15,
   "metadata": {},
   "outputs": [
    {
     "name": "stdout",
     "output_type": "stream",
     "text": [
      "5 9\n",
      "4 7 12 15 3\n",
      "[3, 4, 7, 12, 15]\n",
      "4 1\n",
      "7 2\n",
      "12 3\n",
      "7\n"
     ]
    }
   ],
   "source": [
    "x,z=map(int,input().split())\n",
    "l=[int(i) for i in input().split()]\n",
    "l=sorted(l)\n",
    "k=max(l)\n",
    "if z in range(k):\n",
    "    for i in range(1,x):\n",
    "        if(l[i]<z):\n",
    "            continue\n",
    "        else:\n",
    "            break\n",
    "    print(l[i-1])\n",
    "else:\n",
    "    print('-1')\n",
    "    \n"
   ]
  },
  {
   "cell_type": "code",
   "execution_count": 19,
   "metadata": {},
   "outputs": [
    {
     "name": "stdout",
     "output_type": "stream",
     "text": [
      "1 5 6\n",
      "-2.00\n",
      "-3.00\n"
     ]
    }
   ],
   "source": [
    "import math\n",
    "x,y,z = (int(i) for i in input().split())\n",
    "print('%0.2f' %((- y + math.sqrt(y**2 - 4 * x * z)) / 2 * x))\n",
    "print('%0.2f' %((- y - math.sqrt(y**2 - 4 * x *z)) / 2 * x))"
   ]
  },
  {
   "cell_type": "markdown",
   "metadata": {},
   "source": [
    "166"
   ]
  },
  {
   "cell_type": "code",
   "execution_count": 20,
   "metadata": {},
   "outputs": [
    {
     "name": "stdout",
     "output_type": "stream",
     "text": [
      "rescue curse\n",
      "false\n"
     ]
    }
   ],
   "source": [
    "x,y=map(str,input().split())\n",
    "if y in x or x in y:\n",
    "    print('true')\n",
    "else:\n",
    "    print('false')\n",
    "    "
   ]
  },
  {
   "cell_type": "markdown",
   "metadata": {},
   "source": [
    "170"
   ]
  },
  {
   "cell_type": "code",
   "execution_count": 9,
   "metadata": {},
   "outputs": [
    {
     "name": "stdout",
     "output_type": "stream",
     "text": [
      "5\n",
      "4 8 7 9 2\n",
      "98742\n"
     ]
    }
   ],
   "source": [
    "x=int(input())\n",
    "l=[int(i) for i in input().split()]\n",
    "l.sort()\n",
    "print(*l[::-1],sep=\"\")\n"
   ]
  },
  {
   "cell_type": "markdown",
   "metadata": {},
   "source": [
    "171"
   ]
  },
  {
   "cell_type": "code",
   "execution_count": 19,
   "metadata": {},
   "outputs": [
    {
     "name": "stdout",
     "output_type": "stream",
     "text": [
      "25\n",
      "5\n"
     ]
    }
   ],
   "source": [
    "x,k=int(input()),[]\n",
    "def isprime(n):\n",
    "    for j in range(2,n):\n",
    "        if(n%j==0):\n",
    "            return False\n",
    "            break\n",
    "    else:\n",
    "        return True\n",
    "for i in range(2,x+1):\n",
    "    if x%i == 0:\n",
    "        if isprime(i)==True:\n",
    "            k.append(i)\n",
    "        else:\n",
    "            continue\n",
    "print(*sorted(k))"
   ]
  },
  {
   "cell_type": "code",
   "execution_count": 45,
   "metadata": {},
   "outputs": [
    {
     "name": "stdout",
     "output_type": "stream",
     "text": [
      "4\n",
      "2 4 4 2\n",
      "even\n"
     ]
    }
   ],
   "source": [
    "l,s=int(input()),1\n",
    "l=[int(i) for i in input().split()]\n",
    "for i in l:\n",
    "     s*=i\n",
    "if s%2 == 0:\n",
    "    print('even')\n",
    "else:\n",
    "    print('odd')"
   ]
  },
  {
   "cell_type": "markdown",
   "metadata": {},
   "source": [
    "178"
   ]
  },
  {
   "cell_type": "code",
   "execution_count": 5,
   "metadata": {},
   "outputs": [
    {
     "name": "stdout",
     "output_type": "stream",
     "text": [
      "8\n",
      "2 4 8\n"
     ]
    }
   ],
   "source": [
    "x,m=int(input()),[]\n",
    "for i in range(2,x+1):\n",
    "    if(x%i == 0 and i%2==0):\n",
    "        m.append(i)\n",
    "if(len(m)!=0):\n",
    "    print(*m)\n",
    "else:\n",
    "    print('-1')"
   ]
  },
  {
   "cell_type": "markdown",
   "metadata": {},
   "source": [
    "181"
   ]
  },
  {
   "cell_type": "code",
   "execution_count": 12,
   "metadata": {},
   "outputs": [
    {
     "name": "stdout",
     "output_type": "stream",
     "text": [
      "7\n",
      "0 1 2 3 4 5 6\n",
      "-1\n"
     ]
    }
   ],
   "source": [
    "x,m=int(input()),[]\n",
    "l=[int(i) for i in input().split()]\n",
    "def iseven(n):\n",
    "    if n%2==0:\n",
    "        return True\n",
    "    else:\n",
    "        return False\n",
    "for i in l:\n",
    "    k=l.index(i)\n",
    "    if((iseven(k)==True and iseven(i)==False) or (iseven(k)==False and iseven(i)==True)):\n",
    "       m.append(i)\n",
    "if(len(m)!=0):\n",
    "    print(*m)\n",
    "else:\n",
    "    print('-1')"
   ]
  },
  {
   "cell_type": "markdown",
   "metadata": {},
   "source": [
    "98\n"
   ]
  },
  {
   "cell_type": "code",
   "execution_count": 17,
   "metadata": {},
   "outputs": [
    {
     "name": "stdout",
     "output_type": "stream",
     "text": [
      "7\n",
      "5040\n"
     ]
    }
   ],
   "source": [
    "x,mul=int(input()),1\n",
    "for i in range(1,x+1):\n",
    "    mul=mul*i\n",
    "print(mul)"
   ]
  },
  {
   "cell_type": "markdown",
   "metadata": {},
   "source": [
    "99"
   ]
  },
  {
   "cell_type": "code",
   "execution_count": 19,
   "metadata": {},
   "outputs": [
    {
     "name": "stdout",
     "output_type": "stream",
     "text": [
      "1452\n",
      "5421\n"
     ]
    }
   ],
   "source": [
    "x=input()\n",
    "x=list(sorted(x))\n",
    "print(*x[::-1],sep=\"\")"
   ]
  },
  {
   "cell_type": "markdown",
   "metadata": {},
   "source": [
    "100"
   ]
  },
  {
   "cell_type": "code",
   "execution_count": null,
   "metadata": {},
   "outputs": [],
   "source": [
    "x=int(input())\n",
    "l=[int(i) for i in inpur().split()]\n",
    "for i in range(0,l+1):\n",
    "    if(l.index(l[i])==)\n",
    "    "
   ]
  },
  {
   "cell_type": "markdown",
   "metadata": {},
   "source": [
    "185"
   ]
  },
  {
   "cell_type": "code",
   "execution_count": 10,
   "metadata": {},
   "outputs": [
    {
     "name": "stdout",
     "output_type": "stream",
     "text": [
      "6\n",
      "1 2 1 2 1 2\n",
      "8 1 8 1 8 1\n"
     ]
    }
   ],
   "source": [
    "x=int(input())\n",
    "k,a=0,[]\n",
    "l=[int(i) for i in input().split()]\n",
    "for j in range(1,x+1):\n",
    "    mu=1\n",
    "    for i in l:\n",
    "        if(i==l[k]):\n",
    "            pass\n",
    "        else:\n",
    "            mu*=i\n",
    "    k+=1\n",
    "    a.append(mu)\n",
    "print(*a)"
   ]
  },
  {
   "cell_type": "code",
   "execution_count": null,
   "metadata": {},
   "outputs": [],
   "source": []
  }
 ],
 "metadata": {
  "kernelspec": {
   "display_name": "Python 3",
   "language": "python",
   "name": "python3"
  },
  "language_info": {
   "codemirror_mode": {
    "name": "ipython",
    "version": 3
   },
   "file_extension": ".py",
   "mimetype": "text/x-python",
   "name": "python",
   "nbconvert_exporter": "python",
   "pygments_lexer": "ipython3",
   "version": "3.7.6"
  }
 },
 "nbformat": 4,
 "nbformat_minor": 4
}
