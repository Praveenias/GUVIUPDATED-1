{
 "cells": [
  {
   "cell_type": "code",
   "execution_count": 1,
   "metadata": {},
   "outputs": [
    {
     "name": "stdout",
     "output_type": "stream",
     "text": [
      "3\n",
      "Karthik 23000 rohan 81734 varshini 12343\n",
      "varshini\n",
      "Karthik\n",
      "rohan\n"
     ]
    }
   ],
   "source": [
    "x,m=int(input()),[]\n",
    "l=[i for i in input().split()]\n",
    "for i in range(0,len(l)):\n",
    "    if(i%2!= 0):\n",
    "        i=int(i)\n",
    "        m.append(l[i])\n",
    "    else:\n",
    "        continue\n",
    "m=sorted(m)\n",
    "for i in m:\n",
    "    k=l.index(i)\n",
    "    print(l[k-1])\n",
    "    "
   ]
  },
  {
   "cell_type": "markdown",
   "metadata": {},
   "source": [
    "10"
   ]
  },
  {
   "cell_type": "code",
   "execution_count": 3,
   "metadata": {},
   "outputs": [
    {
     "name": "stdout",
     "output_type": "stream",
     "text": [
      "10\n",
      "1 1 1 2 2 2 3 8 9 7\n",
      "5\n",
      "1 2 3 0 5\n",
      "3 3 1 not present not present\n"
     ]
    }
   ],
   "source": [
    "x,m=int(input()),[]\n",
    "l1=[int(i) for i in input().split()]\n",
    "y=int(input())\n",
    "l2=[int(i) for i in input().split()]\n",
    "for i in l2:\n",
    "    if i in l1:\n",
    "        m.append(l1.count(i))\n",
    "    else:\n",
    "        m.append(\"Not Present\")\n",
    "print(*m)"
   ]
  },
  {
   "cell_type": "markdown",
   "metadata": {},
   "source": [
    "11"
   ]
  },
  {
   "cell_type": "code",
   "execution_count": null,
   "metadata": {},
   "outputs": [],
   "source": [
    "x=input()\n",
    "l=[int(i) for i in input().split()]\n",
    "for i in range(x):\n",
    "    "
   ]
  }
 ],
 "metadata": {
  "kernelspec": {
   "display_name": "Python 3",
   "language": "python",
   "name": "python3"
  },
  "language_info": {
   "codemirror_mode": {
    "name": "ipython",
    "version": 3
   },
   "file_extension": ".py",
   "mimetype": "text/x-python",
   "name": "python",
   "nbconvert_exporter": "python",
   "pygments_lexer": "ipython3",
   "version": "3.7.6"
  }
 },
 "nbformat": 4,
 "nbformat_minor": 4
}
